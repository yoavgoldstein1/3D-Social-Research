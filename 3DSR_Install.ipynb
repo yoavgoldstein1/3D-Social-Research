{
 "cells": [
  {
   "cell_type": "markdown",
   "metadata": {
    "id": "X38L6tanrnrB"
   },
   "source": [
    "# Video poses analysis in social research\n",
    "This notebook uses openpose library and librealsense for social research\n"
   ]
  },
  {
   "cell_type": "markdown",
   "metadata": {
    "id": "BHYgBcD3GA1_"
   },
   "source": [
    "## Install dependencies\n",
    "\n",
    "and **Remove** open pose and output files if *needed*\n",
    "\n"
   ]
  },
  {
   "cell_type": "code",
   "execution_count": null,
   "metadata": {
    "id": "h_KkiXolUga1",
    "scrolled": true
   },
   "outputs": [],
   "source": [
    "# Install required unix packages\n",
    "!./Install.sh"
   ]
  },
  {
   "cell_type": "markdown",
   "metadata": {},
   "source": [
    "# Build and install openpose library\n",
    "This section fetches openpose tracking repository, building it from source and installing it on the machine.\n",
    "In addition, the openpose python library is installed."
   ]
  },
  {
   "cell_type": "code",
   "execution_count": null,
   "metadata": {
    "colab": {
     "base_uri": "https://localhost:8080/"
    },
    "id": "FOdkDhb6ga6N",
    "outputId": "7e419100-98d7-4382-ed6f-7d8aeba5aa8c",
    "scrolled": true
   },
   "outputs": [],
   "source": [
    "!sudo rm -rf openpose*\n",
    "!sudo rm -rf cmake*\n",
    "def install_openpose():\n",
    "\n",
    "    import os\n",
    "    from os.path import exists, join, basename, splitext\n",
    "    import shutil\n",
    "\n",
    "    git_repo_url = 'https://github.com/soulslicer/openpose.git'\n",
    "    project_name = splitext(basename(git_repo_url))[0]\n",
    "\n",
    "    #Create openpose from scratch\n",
    "    if not exists(project_name):\n",
    "        print(\"Getting workspace from scratch\")\n",
    "        # install new CMake becaue of CUDA10\n",
    "        !sudo wget -q https://cmake.org/files/v3.13/cmake-3.13.0-Linux-x86_64.tar.gz\n",
    "        !sudo tar xfz cmake-3.13.0-Linux-x86_64.tar.gz --strip-components=1 -C /usr/local\n",
    "        # clone openpose\n",
    "        !sudo git clone --single-branch --branch staf -q --depth 1 $git_repo_url\n",
    "\n",
    "        !sudo sed -i 's/execute_process(COMMAND git checkout master WORKING_DIRECTORY ${CMAKE_SOURCE_DIR}\\/3rdparty\\/caffe)/execute_process(COMMAND git checkout f019d0dfe86f49d1140961f8c7dec22130c83154 WORKING_DIRECTORY ${CMAKE_SOURCE_DIR}\\/3rdparty\\/caffe)/g' openpose/CMakeLists.txt\n",
    "        # install system dependencies\n",
    "        # !apt-get -qq install -y libatlas-base-dev libprotobuf-dev libleveldb-dev libsnappy-dev libhdf5-serial-dev protobuf-compiler libgflags-dev libgoogle-glog-dev liblmdb-dev opencl-headers ocl-icd-opencl-dev libviennacl-dev\n",
    "\n",
    "        # build openpose\n",
    "        !cd openpose && sudo rm -rf build || true && sudo mkdir build && cd build && sudo cmake -DBUILD_PYTHON=ON -DPYTHON_EXECUTABLE=$(which python)  ..  && sudo make -j`nproc`\n",
    "        !cd openpose/build && sudo make install\n",
    "        !cd openpose/build/python/openpose && sudo make install\n",
    "\n",
    "install_openpose()\n",
    "!sudo chmod 755 openpose/build/examples/openpose/openpose.bin"
   ]
  },
  {
   "cell_type": "markdown",
   "metadata": {
    "id": "FWOOLpR6L0E4"
   },
   "source": [
    "## Download tracking model \n",
    "Downloads the model (pose_iter_264000.caffemodel). This is the model that tracking is enabled with, other models of openpose won't support the tracking feature.\n"
   ]
  },
  {
   "cell_type": "code",
   "execution_count": null,
   "metadata": {},
   "outputs": [],
   "source": [
    "#DOWNLOAD THE MODEL TO ROOT FOLDER and copy to openpose model directory\n",
    "!curl https://storage.googleapis.com/social-cv-storagr/Models/pose_iter_264000.caffemodel --output pose_iter_264000.caffemodel\n",
    "!sudo cp pose_iter_264000.caffemodel openpose/models/pose/body_21a_video"
   ]
  }
 ],
 "metadata": {
  "accelerator": "GPU",
  "colab": {
   "collapsed_sections": [
    "JZyokDc4UdHn",
    "FWOOLpR6L0E4",
    "n5L3Z5YVrZ2R"
   ],
   "name": "Social Research Notebook.ipynb",
   "provenance": [
    {
     "file_id": "https://github.com/tugstugi/dl-colab-notebooks/blob/master/notebooks/OpenPose.ipynb",
     "timestamp": 1605091772430
    }
   ]
  },
  "environment": {
   "kernel": "python3",
   "name": "tf2-gpu.2-10.m97",
   "type": "gcloud",
   "uri": "gcr.io/deeplearning-platform-release/tf2-gpu.2-10:m97"
  },
  "kernelspec": {
   "display_name": "Python 3.8.2 64-bit",
   "language": "python",
   "name": "python3"
  },
  "language_info": {
   "codemirror_mode": {
    "name": "ipython",
    "version": 3
   },
   "file_extension": ".py",
   "mimetype": "text/x-python",
   "name": "python",
   "nbconvert_exporter": "python",
   "pygments_lexer": "ipython3",
   "version": "3.8.2"
  },
  "vscode": {
   "interpreter": {
    "hash": "31f2aee4e71d21fbe5cf8b01ff0e069b9275f58929596ceb00d14d90e3e16cd6"
   }
  }
 },
 "nbformat": 4,
 "nbformat_minor": 4
}
