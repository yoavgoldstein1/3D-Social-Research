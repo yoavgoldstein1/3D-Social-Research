{
 "cells": [
  {
   "cell_type": "markdown",
   "metadata": {},
   "source": [
    "# Run to process BAG files and create required CSVs"
   ]
  },
  {
   "cell_type": "markdown",
   "metadata": {},
   "source": [
    "Get all bag files in a specified folder"
   ]
  },
  {
   "cell_type": "code",
   "execution_count": null,
   "metadata": {},
   "outputs": [],
   "source": [
    "# Replace with your OWN bag files path\n",
    "bag_paths = [\"Inputs/20201208_104208.bag\"]\n",
    "# Replace with your OWN bag files name\n",
    "bag_names = [\"20201208_104208\"]"
   ]
  },
  {
   "cell_type": "markdown",
   "metadata": {},
   "source": [
    "Run the anaysis for each file"
   ]
  },
  {
   "cell_type": "code",
   "execution_count": null,
   "metadata": {
    "scrolled": true
   },
   "outputs": [],
   "source": [
    "save_videos = 'False'\n",
    "save_openpose_images = 'False'\n",
    "clear_images = 'True'\n",
    "create_log = False\n",
    "for bag_name, bag_path in zip(bag_names, bag_paths):\n",
    "    if create_log:\n",
    "        run_command = f'python 3DSR_Runner.py {bag_name} {bag_path} {save_videos} {save_openpose_images} {clear_images} > Outputs/run_log.txt'\n",
    "        !$run_command\n",
    "    else:\n",
    "        run_command = f'python 3DSR_Runner.py {bag_name} {bag_path} {save_videos} {save_openpose_images} {clear_images}'\n",
    "        !$run_command\n"
   ]
  },
  {
   "cell_type": "code",
   "execution_count": null,
   "metadata": {},
   "outputs": [],
   "source": []
  }
 ],
 "metadata": {
  "environment": {
   "kernel": "python3",
   "name": "tf2-gpu.2-10.m97",
   "type": "gcloud",
   "uri": "gcr.io/deeplearning-platform-release/tf2-gpu.2-10:m97"
  },
  "kernelspec": {
   "display_name": "Python 3",
   "language": "python",
   "name": "python3"
  },
  "language_info": {
   "codemirror_mode": {
    "name": "ipython",
    "version": 3
   },
   "file_extension": ".py",
   "mimetype": "text/x-python",
   "name": "python",
   "nbconvert_exporter": "python",
   "pygments_lexer": "ipython3",
   "version": "3.7.12"
  },
  "vscode": {
   "interpreter": {
    "hash": "a2af9c886b5fb9441f38438aed7bf81703d0a409f278818933e28b3495aac928"
   }
  }
 },
 "nbformat": 4,
 "nbformat_minor": 4
}
